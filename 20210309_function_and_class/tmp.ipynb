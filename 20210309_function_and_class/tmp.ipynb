{
 "cells": [
  {
   "cell_type": "code",
   "execution_count": 2,
   "metadata": {},
   "outputs": [],
   "source": [
    "import os\n",
    "import pickle as pk\n",
    "from sample import Person"
   ]
  },
  {
   "cell_type": "code",
   "execution_count": 3,
   "metadata": {},
   "outputs": [
    {
     "name": "stdout",
     "output_type": "stream",
     "text": [
      "Hi, my name is Lina\n",
      "Hi, my name is Tom\n",
      "Hi, my name is Joy\n",
      "Hi, my name is Emily\n",
      "Hi, my name is Peter\n",
      "Hi, my name is Grace\n",
      "Hi, my name is Cindy\n",
      "Hi, my name is Andrew\n",
      "Hi, my name is Derek\n"
     ]
    }
   ],
   "source": [
    "fdir = 'data_person/'\n",
    "for fname in os.listdir(fdir):\n",
    "    with open(os.path.join(fdir, fname), 'rb') as f:\n",
    "        person = pk.load(f)\n",
    "        person.introduce()"
   ]
  }
 ],
 "metadata": {
  "kernelspec": {
   "display_name": "Python 3",
   "language": "python",
   "name": "python3"
  },
  "language_info": {
   "codemirror_mode": {
    "name": "ipython",
    "version": 3
   },
   "file_extension": ".py",
   "mimetype": "text/x-python",
   "name": "python",
   "nbconvert_exporter": "python",
   "pygments_lexer": "ipython3",
   "version": "3.6.8"
  }
 },
 "nbformat": 4,
 "nbformat_minor": 4
}
