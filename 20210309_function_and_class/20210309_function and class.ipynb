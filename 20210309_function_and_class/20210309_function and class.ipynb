{
 "cells": [
  {
   "cell_type": "markdown",
   "metadata": {},
   "source": [
    "# Function"
   ]
  },
  {
   "cell_type": "code",
   "execution_count": 1,
   "metadata": {},
   "outputs": [],
   "source": [
    "names = ['Peter', 'Tom', 'Cindy', 'Grace', 'Emily', 'Joy', 'Lina', 'Andrew', 'Derek']"
   ]
  },
  {
   "cell_type": "code",
   "execution_count": 2,
   "metadata": {},
   "outputs": [
    {
     "name": "stdout",
     "output_type": "stream",
     "text": [
      "Hi, my name is Peter\n",
      "Hi, my name is Tom\n",
      "Hi, my name is Cindy\n",
      "Hi, my name is Grace\n",
      "Hi, my name is Emily\n",
      "Hi, my name is Lina\n",
      "Hi, my name is Andrew\n",
      "Hi, my name is Derek\n"
     ]
    }
   ],
   "source": [
    "print('Hi, my name is Peter')\n",
    "print('Hi, my name is Tom')\n",
    "print('Hi, my name is Cindy')\n",
    "print('Hi, my name is Grace')\n",
    "print('Hi, my name is Emily')\n",
    "print('Hi, my name is Lina')\n",
    "print('Hi, my name is Andrew')\n",
    "print('Hi, my name is Derek')"
   ]
  },
  {
   "cell_type": "code",
   "execution_count": 3,
   "metadata": {},
   "outputs": [
    {
     "name": "stdout",
     "output_type": "stream",
     "text": [
      "Hi, my name is Peter\n",
      "Hi, my name is Tom\n",
      "Hi, my name is Cindy\n",
      "Hi, my name is Grace\n",
      "Hi, my name is Emily\n",
      "Hi, my name is Joy\n",
      "Hi, my name is Lina\n",
      "Hi, my name is Andrew\n",
      "Hi, my name is Derek\n"
     ]
    }
   ],
   "source": [
    "def introduce(name):\n",
    "    print('Hi, my name is ' + name)\n",
    "\n",
    "for name in names:\n",
    "    introduce(name)"
   ]
  },
  {
   "cell_type": "markdown",
   "metadata": {},
   "source": [
    "# Class"
   ]
  },
  {
   "cell_type": "code",
   "execution_count": 4,
   "metadata": {},
   "outputs": [],
   "source": [
    "import os\n",
    "import numpy as np\n",
    "import pandas as pd\n",
    "import pickle as pk"
   ]
  },
  {
   "cell_type": "markdown",
   "metadata": {},
   "source": [
    "## Case #1"
   ]
  },
  {
   "cell_type": "code",
   "execution_count": 5,
   "metadata": {},
   "outputs": [
    {
     "name": "stdout",
     "output_type": "stream",
     "text": [
      "Hi, my name is Peter\n",
      "Hi, my name is Tom\n",
      "Hi, my name is Cindy\n",
      "Hi, my name is Grace\n",
      "Hi, my name is Emily\n",
      "Hi, my name is Joy\n",
      "Hi, my name is Lina\n",
      "Hi, my name is Andrew\n",
      "Hi, my name is Derek\n"
     ]
    }
   ],
   "source": [
    "names = ['Peter', 'Tom', 'Cindy', 'Grace', 'Emily', 'Joy', 'Lina', 'Andrew', 'Derek']\n",
    "\n",
    "def introduce(name):\n",
    "    print('Hi, my name is ' + name)\n",
    "\n",
    "for name in names:\n",
    "    introduce(name)"
   ]
  },
  {
   "cell_type": "code",
   "execution_count": 7,
   "metadata": {},
   "outputs": [],
   "source": [
    "class Person:\n",
    "    def __init__(self, name):\n",
    "        self.name = name\n",
    "        \n",
    "    def introduce(self):\n",
    "        print('Hi, my name is ' + self.name)\n",
    "        \n",
    "fdir = 'data_person/'\n",
    "for name in names:\n",
    "    person = Person(name=name)\n",
    "    fname = '{}.pk'.format(name)\n",
    "    with open(os.path.join(fdir, fname), 'wb') as f:\n",
    "        pk.dump(person, f)"
   ]
  },
  {
   "cell_type": "markdown",
   "metadata": {},
   "source": [
    "## Case #2"
   ]
  },
  {
   "cell_type": "code",
   "execution_count": 6,
   "metadata": {},
   "outputs": [],
   "source": [
    "fname = 'data_score.xlsx'\n",
    "data = pd.read_excel(fname)"
   ]
  },
  {
   "cell_type": "code",
   "execution_count": 9,
   "metadata": {},
   "outputs": [
    {
     "data": {
      "text/html": [
       "<div>\n",
       "<style scoped>\n",
       "    .dataframe tbody tr th:only-of-type {\n",
       "        vertical-align: middle;\n",
       "    }\n",
       "\n",
       "    .dataframe tbody tr th {\n",
       "        vertical-align: top;\n",
       "    }\n",
       "\n",
       "    .dataframe thead th {\n",
       "        text-align: right;\n",
       "    }\n",
       "</style>\n",
       "<table border=\"1\" class=\"dataframe\">\n",
       "  <thead>\n",
       "    <tr style=\"text-align: right;\">\n",
       "      <th></th>\n",
       "      <th>Name</th>\n",
       "      <th>Math</th>\n",
       "      <th>Science</th>\n",
       "      <th>English</th>\n",
       "    </tr>\n",
       "  </thead>\n",
       "  <tbody>\n",
       "    <tr>\n",
       "      <th>0</th>\n",
       "      <td>성현</td>\n",
       "      <td>36</td>\n",
       "      <td>26</td>\n",
       "      <td>43</td>\n",
       "    </tr>\n",
       "    <tr>\n",
       "      <th>1</th>\n",
       "      <td>세환</td>\n",
       "      <td>35</td>\n",
       "      <td>74</td>\n",
       "      <td>75</td>\n",
       "    </tr>\n",
       "    <tr>\n",
       "      <th>2</th>\n",
       "      <td>건우</td>\n",
       "      <td>74</td>\n",
       "      <td>15</td>\n",
       "      <td>12</td>\n",
       "    </tr>\n",
       "    <tr>\n",
       "      <th>3</th>\n",
       "      <td>정연</td>\n",
       "      <td>65</td>\n",
       "      <td>64</td>\n",
       "      <td>47</td>\n",
       "    </tr>\n",
       "  </tbody>\n",
       "</table>\n",
       "</div>"
      ],
      "text/plain": [
       "  Name  Math  Science  English\n",
       "0   성현    36       26       43\n",
       "1   세환    35       74       75\n",
       "2   건우    74       15       12\n",
       "3   정연    65       64       47"
      ]
     },
     "execution_count": 9,
     "metadata": {},
     "output_type": "execute_result"
    }
   ],
   "source": [
    "data"
   ]
  },
  {
   "cell_type": "code",
   "execution_count": 11,
   "metadata": {},
   "outputs": [
    {
     "data": {
      "text/plain": [
       "1    35\n",
       "Name: Math, dtype: int64"
      ]
     },
     "execution_count": 11,
     "metadata": {},
     "output_type": "execute_result"
    }
   ],
   "source": [
    "data[data['Name']=='세환']['Math']"
   ]
  },
  {
   "cell_type": "code",
   "execution_count": 12,
   "metadata": {},
   "outputs": [],
   "source": [
    "class Student:\n",
    "    def __init__(self, name, math, science, english):\n",
    "        self.name = name\n",
    "        self.math = math\n",
    "        self.science = science\n",
    "        self.english = english\n",
    "        \n",
    "    def total(self):\n",
    "        return np.sum((self.math, self.science, self.english))\n",
    "    \n",
    "    def mean(self):\n",
    "        return np.mean((self.math, self.science, self.english))"
   ]
  },
  {
   "cell_type": "code",
   "execution_count": 13,
   "metadata": {},
   "outputs": [],
   "source": [
    "fdir = 'data_score/'\n",
    "for i in range(len(data)):\n",
    "    name, math, science, english = data.iloc[i]\n",
    "    student = Student(name=name, math=math, science=science, english=english)\n",
    "\n",
    "    fname = '{}.pk'.format(name)\n",
    "    fpath = os.path.join(fdir, fname)\n",
    "    with open(fpath, 'wb') as f:\n",
    "        pk.dump(student, f)"
   ]
  },
  {
   "cell_type": "code",
   "execution_count": 14,
   "metadata": {},
   "outputs": [
    {
     "name": "stdout",
     "output_type": "stream",
     "text": [
      "정연\n",
      "176\n",
      "58.666666666666664\n",
      "건우\n",
      "101\n",
      "33.666666666666664\n",
      "성현\n",
      "105\n",
      "35.0\n",
      "세환\n",
      "184\n",
      "61.333333333333336\n"
     ]
    }
   ],
   "source": [
    "students = []\n",
    "for fname in os.listdir(fdir):\n",
    "    fpath = os.path.join(fdir, fname)\n",
    "    with open(fpath, 'rb') as f:\n",
    "        student = pk.load(f)\n",
    "        \n",
    "        print(student.name)\n",
    "        print(student.total())\n",
    "        print(student.mean())"
   ]
  }
 ],
 "metadata": {
  "kernelspec": {
   "display_name": "Python 3",
   "language": "python",
   "name": "python3"
  },
  "language_info": {
   "codemirror_mode": {
    "name": "ipython",
    "version": 3
   },
   "file_extension": ".py",
   "mimetype": "text/x-python",
   "name": "python",
   "nbconvert_exporter": "python",
   "pygments_lexer": "ipython3",
   "version": "3.6.8"
  }
 },
 "nbformat": 4,
 "nbformat_minor": 4
}
