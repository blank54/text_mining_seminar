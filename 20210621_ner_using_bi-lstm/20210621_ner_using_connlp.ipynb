{
 "cells": [
  {
   "cell_type": "markdown",
   "metadata": {},
   "source": [
    "# 0. Installation"
   ]
  },
  {
   "cell_type": "markdown",
   "metadata": {},
   "source": [
    "Install the modules.\n",
    "\n",
    "```\n",
    "pip install config==0.4.2 gensim==3.8.1 gpustat==0.6.0 GPUtil==1.4.0 h5py==2.10.0 JPype1==0.7.1 Keras==2.2.4 konlpy==0.5.2 nltk==3.4.5 numpy==1.18.1 pandas==1.0.1 scikit-learn==0.22.1 scipy==1.4.1 silence-tensorflow==1.1.1 soynlp==0.0.493 tensorflow==1.14.0 tensorflow-gpu==1.14.0\n",
    "```"
   ]
  },
  {
   "cell_type": "markdown",
   "metadata": {},
   "source": [
    "Follow the descriptions and install _keras-contrib_.\n",
    "\n",
    "```\n",
    "git clone https://www.github.com/keras-team/keras-contrib.git \n",
    "cd keras-contrib \n",
    "python setup.py install\n",
    "```"
   ]
  },
  {
   "cell_type": "markdown",
   "metadata": {},
   "source": [
    "Ignore WARNING messages via following modules."
   ]
  },
  {
   "cell_type": "code",
   "execution_count": 9,
   "metadata": {},
   "outputs": [],
   "source": [
    "from silence_tensorflow import silence_tensorflow\n",
    "silence_tensorflow()\n",
    "\n",
    "import warnings\n",
    "warnings.filterwarnings(action='ignore', category=DeprecationWarning)\n",
    "warnings.simplefilter(action='ignore', category=FutureWarning)\n",
    "warnings.simplefilter(action='ignore', category=UserWarning)"
   ]
  },
  {
   "cell_type": "markdown",
   "metadata": {},
   "source": [
    "# 1. Data Preparation"
   ]
  },
  {
   "cell_type": "markdown",
   "metadata": {},
   "source": [
    "## 1.1 Labels"
   ]
  },
  {
   "cell_type": "code",
   "execution_count": 1,
   "metadata": {},
   "outputs": [
    {
     "name": "stderr",
     "output_type": "stream",
     "text": [
      "Using TensorFlow backend.\n"
     ]
    }
   ],
   "source": [
    "from connlp.analysis import NER_Labels\n",
    "\n",
    "label_dict = {'NON': 0,     #None\n",
    "              'PER': 1,     #PERSON\n",
    "              'FOD': 2,}    #FOOD\n",
    "\n",
    "ner_labels = NER_Labels(label_dict=label_dict)"
   ]
  },
  {
   "cell_type": "markdown",
   "metadata": {},
   "source": [
    "## 1.2 Corpus"
   ]
  },
  {
   "cell_type": "code",
   "execution_count": 2,
   "metadata": {},
   "outputs": [],
   "source": [
    "from connlp.preprocess import EnglishTokenizer\n",
    "from connlp.analysis import NER_LabeledSentence, NER_Corpus\n",
    "tokenizer = EnglishTokenizer()\n",
    "\n",
    "data_sents = {'sent1': 'Sam likes pizza',\n",
    "              'sent2': 'Erik eats pizza',\n",
    "              'sent3': 'Erik and Sam are drinking soda',\n",
    "              'sent4': 'Flora cooks chicken',\n",
    "              'sent5': 'Sam ordered a chicken',\n",
    "              'sent6': 'Flora likes chicken sandwitch',\n",
    "              'sent7': 'Erik likes to drink soda'}\n",
    "data_labels = {'sent1': [1, 0, 2],\n",
    "               'sent2': [1, 0, 2],\n",
    "               'sent3': [1, 0, 1, 0, 0, 2],\n",
    "               'sent4': [1, 0, 2],\n",
    "               'sent5': [1, 0, 0, 2],\n",
    "               'sent6': [1, 0, 2, 2],\n",
    "               'sent7': [1, 0, 0, 0, 2]}\n",
    "\n",
    "docs = []\n",
    "for tag, sent in data_sents.items():\n",
    "    words = [str(w) for w in tokenizer.tokenize(text=sent)]\n",
    "    labels = data_labels[tag]\n",
    "    docs.append(NER_LabeledSentence(tag=tag, words=words, labels=labels))\n",
    "\n",
    "max_sent_len = 10\n",
    "ner_corpus = NER_Corpus(docs=docs, ner_labels=ner_labels, max_sent_len=max_sent_len)"
   ]
  },
  {
   "cell_type": "markdown",
   "metadata": {},
   "source": [
    "## 1.3 Word Embedding"
   ]
  },
  {
   "cell_type": "code",
   "execution_count": 5,
   "metadata": {},
   "outputs": [],
   "source": [
    "from connlp.preprocess import EnglishTokenizer\n",
    "from connlp.embedding import Vectorizer\n",
    "tokenizer = EnglishTokenizer()\n",
    "vectorizer = Vectorizer()\n",
    "\n",
    "tokenized_sents = [tokenizer.tokenize(sent) for sent in data_sents.values()]\n",
    "w2v_model = vectorizer.word2vec(docs=tokenized_sents)\n",
    "\n",
    "word2vector = vectorizer.get_word_vectors(w2v_model)\n",
    "feature_size = w2v_model.vector_size\n",
    "ner_corpus.word_embedding(word2vector=word2vector, feature_size=feature_size)"
   ]
  },
  {
   "cell_type": "markdown",
   "metadata": {},
   "source": [
    "# 2. Model Development"
   ]
  },
  {
   "cell_type": "markdown",
   "metadata": {},
   "source": [
    "## 2.1 Initialization"
   ]
  },
  {
   "cell_type": "code",
   "execution_count": 8,
   "metadata": {},
   "outputs": [],
   "source": [
    "from connlp.analysis import NER_Model\n",
    "\n",
    "parameters = {\n",
    "    # Parameters for Bi-LSTM.\n",
    "    'lstm_units': 512,\n",
    "    'lstm_return_sequences': True,\n",
    "    'lstm_recurrent_dropout': 0.2,\n",
    "    'dense_units': 100,\n",
    "    'dense_activation': 'relu',\n",
    "\n",
    "    # Parameters for model training.\n",
    "    'test_size': 0.3,\n",
    "    'batch_size': 1,\n",
    "    'epochs': 100,\n",
    "    'validation_split': 0.1,\n",
    "}\n",
    "\n",
    "ner_model = NER_Model()\n",
    "ner_model.initialize(ner_corpus=ner_corpus, parameters=parameters)"
   ]
  },
  {
   "cell_type": "markdown",
   "metadata": {},
   "source": [
    "## 2.2 Training"
   ]
  },
  {
   "cell_type": "code",
   "execution_count": 10,
   "metadata": {
    "scrolled": true
   },
   "outputs": [
    {
     "name": "stdout",
     "output_type": "stream",
     "text": [
      "Train on 3 samples, validate on 1 samples\n",
      "Epoch 1/100\n",
      "3/3 [==============================] - 6s 2s/step - loss: 1.7314 - crf_viterbi_accuracy: 0.0667 - val_loss: 1.4588 - val_crf_viterbi_accuracy: 0.2000\n",
      "Epoch 2/100\n",
      "3/3 [==============================] - 0s 51ms/step - loss: 0.9481 - crf_viterbi_accuracy: 0.5000 - val_loss: 0.6718 - val_crf_viterbi_accuracy: 0.6000\n",
      "Epoch 3/100\n",
      "3/3 [==============================] - 0s 49ms/step - loss: 0.4665 - crf_viterbi_accuracy: 0.7333 - val_loss: 0.5253 - val_crf_viterbi_accuracy: 0.7000\n",
      "Epoch 4/100\n",
      "3/3 [==============================] - 0s 56ms/step - loss: 0.3872 - crf_viterbi_accuracy: 0.7000 - val_loss: 0.8245 - val_crf_viterbi_accuracy: 0.7000\n",
      "Epoch 5/100\n",
      "3/3 [==============================] - 0s 52ms/step - loss: 0.3725 - crf_viterbi_accuracy: 0.8000 - val_loss: 0.6218 - val_crf_viterbi_accuracy: 0.7000\n",
      "Epoch 6/100\n",
      "3/3 [==============================] - 0s 56ms/step - loss: 0.2650 - crf_viterbi_accuracy: 0.9000 - val_loss: 0.5396 - val_crf_viterbi_accuracy: 0.7000\n",
      "Epoch 7/100\n",
      "3/3 [==============================] - 0s 55ms/step - loss: 0.2418 - crf_viterbi_accuracy: 0.8333 - val_loss: 0.7771 - val_crf_viterbi_accuracy: 0.7000\n",
      "Epoch 8/100\n",
      "3/3 [==============================] - 0s 60ms/step - loss: 0.2243 - crf_viterbi_accuracy: 0.8333 - val_loss: 0.5352 - val_crf_viterbi_accuracy: 0.7000\n",
      "Epoch 9/100\n",
      "3/3 [==============================] - 0s 62ms/step - loss: 0.2870 - crf_viterbi_accuracy: 0.8333 - val_loss: 0.7022 - val_crf_viterbi_accuracy: 0.7000\n",
      "Epoch 10/100\n",
      "3/3 [==============================] - 0s 56ms/step - loss: 0.1896 - crf_viterbi_accuracy: 0.8667 - val_loss: 0.6559 - val_crf_viterbi_accuracy: 0.7000\n",
      "Epoch 11/100\n",
      "3/3 [==============================] - 0s 59ms/step - loss: 0.2488 - crf_viterbi_accuracy: 0.8000 - val_loss: 0.5803 - val_crf_viterbi_accuracy: 0.8000\n",
      "Epoch 12/100\n",
      "3/3 [==============================] - 0s 51ms/step - loss: 0.2115 - crf_viterbi_accuracy: 0.7667 - val_loss: 0.6485 - val_crf_viterbi_accuracy: 0.8000\n",
      "Epoch 13/100\n",
      "3/3 [==============================] - 0s 59ms/step - loss: 0.1408 - crf_viterbi_accuracy: 0.8667 - val_loss: 0.7047 - val_crf_viterbi_accuracy: 0.7000\n",
      "Epoch 14/100\n",
      "3/3 [==============================] - 0s 59ms/step - loss: 0.1757 - crf_viterbi_accuracy: 0.8333 - val_loss: 1.8224 - val_crf_viterbi_accuracy: 0.6000\n",
      "Epoch 15/100\n",
      "3/3 [==============================] - 0s 58ms/step - loss: 0.1101 - crf_viterbi_accuracy: 0.9333 - val_loss: 0.6983 - val_crf_viterbi_accuracy: 0.8000\n",
      "Epoch 16/100\n",
      "3/3 [==============================] - 0s 59ms/step - loss: 0.0946 - crf_viterbi_accuracy: 0.8667 - val_loss: 0.7280 - val_crf_viterbi_accuracy: 0.8000\n",
      "Epoch 17/100\n",
      "3/3 [==============================] - 0s 60ms/step - loss: 0.1326 - crf_viterbi_accuracy: 0.8667 - val_loss: 1.1640 - val_crf_viterbi_accuracy: 0.7000\n",
      "Epoch 18/100\n",
      "3/3 [==============================] - 0s 54ms/step - loss: 0.1143 - crf_viterbi_accuracy: 0.9000 - val_loss: 0.9764 - val_crf_viterbi_accuracy: 0.6000\n",
      "Epoch 19/100\n",
      "3/3 [==============================] - 0s 58ms/step - loss: 0.2501 - crf_viterbi_accuracy: 0.7667 - val_loss: 0.9064 - val_crf_viterbi_accuracy: 0.7000\n",
      "Epoch 20/100\n",
      "3/3 [==============================] - 0s 61ms/step - loss: 0.0579 - crf_viterbi_accuracy: 0.9333 - val_loss: 1.7604 - val_crf_viterbi_accuracy: 0.7000\n",
      "Epoch 21/100\n",
      "3/3 [==============================] - 0s 54ms/step - loss: 0.1525 - crf_viterbi_accuracy: 0.8667 - val_loss: 0.9913 - val_crf_viterbi_accuracy: 0.7000\n",
      "Epoch 22/100\n",
      "3/3 [==============================] - 0s 54ms/step - loss: 0.0715 - crf_viterbi_accuracy: 0.9333 - val_loss: 1.5779 - val_crf_viterbi_accuracy: 0.7000\n",
      "Epoch 23/100\n",
      "3/3 [==============================] - 0s 57ms/step - loss: 0.1149 - crf_viterbi_accuracy: 0.8667 - val_loss: 0.9283 - val_crf_viterbi_accuracy: 0.7000\n",
      "Epoch 24/100\n",
      "3/3 [==============================] - 0s 61ms/step - loss: 0.1068 - crf_viterbi_accuracy: 0.9000 - val_loss: 1.6719 - val_crf_viterbi_accuracy: 0.7000\n",
      "Epoch 25/100\n",
      "3/3 [==============================] - 0s 61ms/step - loss: 0.0820 - crf_viterbi_accuracy: 0.9000 - val_loss: 1.6595 - val_crf_viterbi_accuracy: 0.7000\n",
      "Epoch 26/100\n",
      "3/3 [==============================] - 0s 62ms/step - loss: 0.0961 - crf_viterbi_accuracy: 0.9000 - val_loss: 1.6632 - val_crf_viterbi_accuracy: 0.7000\n",
      "Epoch 27/100\n",
      "3/3 [==============================] - 0s 59ms/step - loss: 0.1396 - crf_viterbi_accuracy: 0.8333 - val_loss: 1.0339 - val_crf_viterbi_accuracy: 0.7000\n",
      "Epoch 28/100\n",
      "3/3 [==============================] - 0s 57ms/step - loss: 0.1243 - crf_viterbi_accuracy: 0.8667 - val_loss: 2.0919 - val_crf_viterbi_accuracy: 0.6000\n",
      "Epoch 29/100\n",
      "3/3 [==============================] - 0s 51ms/step - loss: 0.1647 - crf_viterbi_accuracy: 0.8333 - val_loss: 1.0221 - val_crf_viterbi_accuracy: 0.7000\n",
      "Epoch 30/100\n",
      "3/3 [==============================] - 0s 56ms/step - loss: 0.0419 - crf_viterbi_accuracy: 0.9333 - val_loss: 1.6342 - val_crf_viterbi_accuracy: 0.7000\n",
      "Epoch 31/100\n",
      "3/3 [==============================] - 0s 59ms/step - loss: 0.0643 - crf_viterbi_accuracy: 0.9000 - val_loss: 1.8452 - val_crf_viterbi_accuracy: 0.7000\n",
      "Epoch 32/100\n",
      "3/3 [==============================] - 0s 58ms/step - loss: 0.0789 - crf_viterbi_accuracy: 0.9333 - val_loss: 1.1149 - val_crf_viterbi_accuracy: 0.7000\n",
      "Epoch 33/100\n",
      "3/3 [==============================] - 0s 59ms/step - loss: 0.1438 - crf_viterbi_accuracy: 0.8667 - val_loss: 1.0806 - val_crf_viterbi_accuracy: 0.7000\n",
      "Epoch 34/100\n",
      "3/3 [==============================] - 0s 67ms/step - loss: 0.1067 - crf_viterbi_accuracy: 0.9000 - val_loss: 0.9055 - val_crf_viterbi_accuracy: 0.7000\n",
      "Epoch 35/100\n",
      "3/3 [==============================] - 0s 60ms/step - loss: 0.0319 - crf_viterbi_accuracy: 0.9333 - val_loss: 0.9281 - val_crf_viterbi_accuracy: 0.8000\n",
      "Epoch 36/100\n",
      "3/3 [==============================] - 0s 54ms/step - loss: 0.1817 - crf_viterbi_accuracy: 0.8667 - val_loss: 0.9231 - val_crf_viterbi_accuracy: 0.8000\n",
      "Epoch 37/100\n",
      "3/3 [==============================] - 0s 57ms/step - loss: 0.0166 - crf_viterbi_accuracy: 0.9333 - val_loss: 0.9668 - val_crf_viterbi_accuracy: 0.8000\n",
      "Epoch 38/100\n",
      "3/3 [==============================] - 0s 59ms/step - loss: 0.0242 - crf_viterbi_accuracy: 0.9333 - val_loss: 1.6792 - val_crf_viterbi_accuracy: 0.7000\n",
      "Epoch 39/100\n",
      "3/3 [==============================] - 0s 57ms/step - loss: 0.1179 - crf_viterbi_accuracy: 0.8667 - val_loss: 1.0446 - val_crf_viterbi_accuracy: 0.7000\n",
      "Epoch 40/100\n",
      "3/3 [==============================] - 0s 58ms/step - loss: 0.0932 - crf_viterbi_accuracy: 0.8333 - val_loss: 0.8412 - val_crf_viterbi_accuracy: 0.8000\n",
      "Epoch 41/100\n",
      "3/3 [==============================] - 0s 54ms/step - loss: 0.0456 - crf_viterbi_accuracy: 0.9333 - val_loss: 1.0811 - val_crf_viterbi_accuracy: 0.8000\n",
      "Epoch 42/100\n",
      "3/3 [==============================] - 0s 49ms/step - loss: 0.0298 - crf_viterbi_accuracy: 0.9333 - val_loss: 1.0319 - val_crf_viterbi_accuracy: 0.7000\n",
      "Epoch 43/100\n",
      "3/3 [==============================] - 0s 54ms/step - loss: 0.0900 - crf_viterbi_accuracy: 0.9000 - val_loss: 0.8331 - val_crf_viterbi_accuracy: 0.8000\n",
      "Epoch 44/100\n",
      "3/3 [==============================] - 0s 60ms/step - loss: 0.0078 - crf_viterbi_accuracy: 0.9667 - val_loss: 1.9920 - val_crf_viterbi_accuracy: 0.7000\n",
      "Epoch 45/100\n",
      "3/3 [==============================] - 0s 55ms/step - loss: 0.0046 - crf_viterbi_accuracy: 0.9667 - val_loss: 1.2985 - val_crf_viterbi_accuracy: 0.8000\n",
      "Epoch 46/100\n",
      "3/3 [==============================] - 0s 57ms/step - loss: 0.0519 - crf_viterbi_accuracy: 0.9333 - val_loss: 1.1299 - val_crf_viterbi_accuracy: 0.7000\n",
      "Epoch 47/100\n",
      "3/3 [==============================] - 0s 57ms/step - loss: 0.1094 - crf_viterbi_accuracy: 0.9000 - val_loss: 1.9671 - val_crf_viterbi_accuracy: 0.7000\n",
      "Epoch 48/100\n",
      "3/3 [==============================] - 0s 65ms/step - loss: 0.0157 - crf_viterbi_accuracy: 0.9333 - val_loss: 2.0235 - val_crf_viterbi_accuracy: 0.7000\n",
      "Epoch 49/100\n",
      "3/3 [==============================] - 0s 64ms/step - loss: 0.1577 - crf_viterbi_accuracy: 0.8667 - val_loss: 1.1119 - val_crf_viterbi_accuracy: 0.7000\n",
      "Epoch 50/100\n"
     ]
    },
    {
     "name": "stdout",
     "output_type": "stream",
     "text": [
      "3/3 [==============================] - 0s 66ms/step - loss: 0.0499 - crf_viterbi_accuracy: 0.9333 - val_loss: 1.0277 - val_crf_viterbi_accuracy: 0.8000\n",
      "Epoch 51/100\n",
      "3/3 [==============================] - 0s 60ms/step - loss: -0.0094 - crf_viterbi_accuracy: 0.9333 - val_loss: 1.2682 - val_crf_viterbi_accuracy: 0.8000\n",
      "Epoch 52/100\n",
      "3/3 [==============================] - 0s 50ms/step - loss: -0.0198 - crf_viterbi_accuracy: 0.9667 - val_loss: 1.4339 - val_crf_viterbi_accuracy: 0.8000\n",
      "Epoch 53/100\n",
      "3/3 [==============================] - 0s 53ms/step - loss: 0.0475 - crf_viterbi_accuracy: 0.9000 - val_loss: 1.9403 - val_crf_viterbi_accuracy: 0.7000\n",
      "Epoch 54/100\n",
      "3/3 [==============================] - 0s 56ms/step - loss: 0.0397 - crf_viterbi_accuracy: 0.9333 - val_loss: 1.6122 - val_crf_viterbi_accuracy: 0.8000\n",
      "Epoch 55/100\n",
      "3/3 [==============================] - 0s 54ms/step - loss: -0.0035 - crf_viterbi_accuracy: 0.9333 - val_loss: 1.3189 - val_crf_viterbi_accuracy: 0.7000\n",
      "Epoch 56/100\n",
      "3/3 [==============================] - 0s 54ms/step - loss: 0.0568 - crf_viterbi_accuracy: 0.9333 - val_loss: 0.7866 - val_crf_viterbi_accuracy: 0.7000\n",
      "Epoch 57/100\n",
      "3/3 [==============================] - 0s 45ms/step - loss: 0.0566 - crf_viterbi_accuracy: 0.9333 - val_loss: 1.2615 - val_crf_viterbi_accuracy: 0.8000\n",
      "Epoch 58/100\n",
      "3/3 [==============================] - 0s 57ms/step - loss: 0.1253 - crf_viterbi_accuracy: 0.9000 - val_loss: 1.4710 - val_crf_viterbi_accuracy: 0.6000\n",
      "Epoch 59/100\n",
      "3/3 [==============================] - 0s 71ms/step - loss: 0.0505 - crf_viterbi_accuracy: 0.9000 - val_loss: 1.3436 - val_crf_viterbi_accuracy: 0.8000\n",
      "Epoch 60/100\n",
      "3/3 [==============================] - 0s 48ms/step - loss: 0.0056 - crf_viterbi_accuracy: 0.9333 - val_loss: 1.5613 - val_crf_viterbi_accuracy: 0.6000\n",
      "Epoch 61/100\n",
      "3/3 [==============================] - 0s 70ms/step - loss: 0.1308 - crf_viterbi_accuracy: 0.8667 - val_loss: 1.0278 - val_crf_viterbi_accuracy: 0.8000\n",
      "Epoch 62/100\n",
      "3/3 [==============================] - 0s 56ms/step - loss: -0.0293 - crf_viterbi_accuracy: 0.9667 - val_loss: 1.8505 - val_crf_viterbi_accuracy: 0.7000\n",
      "Epoch 63/100\n",
      "3/3 [==============================] - 0s 47ms/step - loss: 0.0723 - crf_viterbi_accuracy: 0.9667 - val_loss: 1.0706 - val_crf_viterbi_accuracy: 0.7000\n",
      "Epoch 64/100\n",
      "3/3 [==============================] - 0s 59ms/step - loss: 0.0302 - crf_viterbi_accuracy: 0.9333 - val_loss: 1.2031 - val_crf_viterbi_accuracy: 0.8000\n",
      "Epoch 65/100\n",
      "3/3 [==============================] - 0s 44ms/step - loss: -0.0403 - crf_viterbi_accuracy: 0.9667 - val_loss: 2.0888 - val_crf_viterbi_accuracy: 0.7000\n",
      "Epoch 66/100\n",
      "3/3 [==============================] - 0s 48ms/step - loss: 0.0087 - crf_viterbi_accuracy: 0.9333 - val_loss: 1.7501 - val_crf_viterbi_accuracy: 0.8000\n",
      "Epoch 67/100\n",
      "3/3 [==============================] - 0s 53ms/step - loss: -0.0017 - crf_viterbi_accuracy: 0.9333 - val_loss: 2.0473 - val_crf_viterbi_accuracy: 0.7000\n",
      "Epoch 68/100\n",
      "3/3 [==============================] - 0s 41ms/step - loss: 0.0348 - crf_viterbi_accuracy: 0.9000 - val_loss: 1.0664 - val_crf_viterbi_accuracy: 0.7000\n",
      "Epoch 69/100\n",
      "3/3 [==============================] - 0s 53ms/step - loss: 0.1280 - crf_viterbi_accuracy: 0.8333 - val_loss: 1.5154 - val_crf_viterbi_accuracy: 0.7000\n",
      "Epoch 70/100\n",
      "3/3 [==============================] - 0s 59ms/step - loss: -0.0022 - crf_viterbi_accuracy: 0.9667 - val_loss: 0.9450 - val_crf_viterbi_accuracy: 0.8000\n",
      "Epoch 71/100\n",
      "3/3 [==============================] - 0s 56ms/step - loss: -0.0292 - crf_viterbi_accuracy: 0.9667 - val_loss: 1.6229 - val_crf_viterbi_accuracy: 0.7000\n",
      "Epoch 72/100\n",
      "3/3 [==============================] - 0s 54ms/step - loss: -0.0127 - crf_viterbi_accuracy: 0.9667 - val_loss: 1.8568 - val_crf_viterbi_accuracy: 0.7000\n",
      "Epoch 73/100\n",
      "3/3 [==============================] - 0s 61ms/step - loss: 0.0302 - crf_viterbi_accuracy: 0.9333 - val_loss: 1.9113 - val_crf_viterbi_accuracy: 0.6000\n",
      "Epoch 74/100\n",
      "3/3 [==============================] - 0s 55ms/step - loss: 0.1023 - crf_viterbi_accuracy: 0.9333 - val_loss: 1.3843 - val_crf_viterbi_accuracy: 0.8000\n",
      "Epoch 75/100\n",
      "3/3 [==============================] - 0s 48ms/step - loss: 0.0106 - crf_viterbi_accuracy: 0.9333 - val_loss: 1.7697 - val_crf_viterbi_accuracy: 0.7000\n",
      "Epoch 76/100\n",
      "3/3 [==============================] - 0s 55ms/step - loss: 0.0348 - crf_viterbi_accuracy: 0.9000 - val_loss: 1.8741 - val_crf_viterbi_accuracy: 0.7000\n",
      "Epoch 77/100\n",
      "3/3 [==============================] - 0s 48ms/step - loss: -0.0402 - crf_viterbi_accuracy: 0.9667 - val_loss: 2.1022 - val_crf_viterbi_accuracy: 0.7000\n",
      "Epoch 78/100\n",
      "3/3 [==============================] - 0s 65ms/step - loss: 0.1062 - crf_viterbi_accuracy: 0.9000 - val_loss: 1.1769 - val_crf_viterbi_accuracy: 0.8000\n",
      "Epoch 79/100\n",
      "3/3 [==============================] - 0s 59ms/step - loss: -0.0476 - crf_viterbi_accuracy: 0.9667 - val_loss: 2.1059 - val_crf_viterbi_accuracy: 0.7000\n",
      "Epoch 80/100\n",
      "3/3 [==============================] - 0s 52ms/step - loss: -0.0111 - crf_viterbi_accuracy: 0.9667 - val_loss: 0.9052 - val_crf_viterbi_accuracy: 0.8000\n",
      "Epoch 81/100\n",
      "3/3 [==============================] - 0s 55ms/step - loss: 0.0908 - crf_viterbi_accuracy: 0.8667 - val_loss: 1.7885 - val_crf_viterbi_accuracy: 0.7000\n",
      "Epoch 82/100\n",
      "3/3 [==============================] - 0s 54ms/step - loss: -0.0478 - crf_viterbi_accuracy: 0.9667 - val_loss: 1.0386 - val_crf_viterbi_accuracy: 0.8000\n",
      "Epoch 83/100\n",
      "3/3 [==============================] - 0s 57ms/step - loss: -0.0016 - crf_viterbi_accuracy: 0.9333 - val_loss: 1.2455 - val_crf_viterbi_accuracy: 0.8000\n",
      "Epoch 84/100\n",
      "3/3 [==============================] - 0s 67ms/step - loss: -0.0265 - crf_viterbi_accuracy: 0.9333 - val_loss: 1.2775 - val_crf_viterbi_accuracy: 0.8000\n",
      "Epoch 85/100\n",
      "3/3 [==============================] - 0s 60ms/step - loss: -0.0709 - crf_viterbi_accuracy: 1.0000 - val_loss: 2.3488 - val_crf_viterbi_accuracy: 0.7000\n",
      "Epoch 86/100\n",
      "3/3 [==============================] - 0s 61ms/step - loss: 0.0822 - crf_viterbi_accuracy: 0.9000 - val_loss: 1.2796 - val_crf_viterbi_accuracy: 0.8000\n",
      "Epoch 87/100\n",
      "3/3 [==============================] - 0s 64ms/step - loss: -0.0497 - crf_viterbi_accuracy: 0.9667 - val_loss: 1.3535 - val_crf_viterbi_accuracy: 0.8000\n",
      "Epoch 88/100\n",
      "3/3 [==============================] - 0s 55ms/step - loss: 0.0464 - crf_viterbi_accuracy: 0.9000 - val_loss: 1.0437 - val_crf_viterbi_accuracy: 0.8000\n",
      "Epoch 89/100\n",
      "3/3 [==============================] - 0s 58ms/step - loss: -0.0420 - crf_viterbi_accuracy: 0.9667 - val_loss: 2.1440 - val_crf_viterbi_accuracy: 0.7000\n",
      "Epoch 90/100\n",
      "3/3 [==============================] - 0s 65ms/step - loss: -0.0455 - crf_viterbi_accuracy: 0.9667 - val_loss: 0.9585 - val_crf_viterbi_accuracy: 0.8000\n",
      "Epoch 91/100\n",
      "3/3 [==============================] - 0s 63ms/step - loss: -0.0232 - crf_viterbi_accuracy: 0.9333 - val_loss: 1.4631 - val_crf_viterbi_accuracy: 0.8000\n",
      "Epoch 92/100\n",
      "3/3 [==============================] - 0s 59ms/step - loss: -0.0285 - crf_viterbi_accuracy: 0.9667 - val_loss: 1.0886 - val_crf_viterbi_accuracy: 0.7000\n",
      "Epoch 93/100\n",
      "3/3 [==============================] - 0s 50ms/step - loss: 0.0054 - crf_viterbi_accuracy: 0.9333 - val_loss: 1.0341 - val_crf_viterbi_accuracy: 0.8000\n",
      "Epoch 94/100\n",
      "3/3 [==============================] - 0s 57ms/step - loss: -0.0251 - crf_viterbi_accuracy: 0.9333 - val_loss: 1.7097 - val_crf_viterbi_accuracy: 0.7000\n",
      "Epoch 95/100\n",
      "3/3 [==============================] - 0s 55ms/step - loss: 0.0622 - crf_viterbi_accuracy: 0.9333 - val_loss: 0.9226 - val_crf_viterbi_accuracy: 0.8000\n",
      "Epoch 96/100\n",
      "3/3 [==============================] - 0s 62ms/step - loss: -0.0084 - crf_viterbi_accuracy: 0.9333 - val_loss: 1.0497 - val_crf_viterbi_accuracy: 0.8000\n",
      "Epoch 97/100\n",
      "3/3 [==============================] - 0s 60ms/step - loss: -0.0706 - crf_viterbi_accuracy: 0.9667 - val_loss: 1.7441 - val_crf_viterbi_accuracy: 0.8000\n",
      "Epoch 98/100\n",
      "3/3 [==============================] - 0s 54ms/step - loss: -0.0723 - crf_viterbi_accuracy: 1.0000 - val_loss: 1.8695 - val_crf_viterbi_accuracy: 0.7000\n",
      "Epoch 99/100\n"
     ]
    },
    {
     "name": "stdout",
     "output_type": "stream",
     "text": [
      "3/3 [==============================] - 0s 54ms/step - loss: -0.0296 - crf_viterbi_accuracy: 0.9667 - val_loss: 1.0222 - val_crf_viterbi_accuracy: 0.7000\n",
      "Epoch 100/100\n",
      "3/3 [==============================] - 0s 49ms/step - loss: -0.0304 - crf_viterbi_accuracy: 0.9667 - val_loss: 2.0319 - val_crf_viterbi_accuracy: 0.7000\n"
     ]
    }
   ],
   "source": [
    "ner_model.train(parameters=parameters)"
   ]
  },
  {
   "cell_type": "markdown",
   "metadata": {},
   "source": [
    "## 2.3 Evaluation"
   ]
  },
  {
   "cell_type": "code",
   "execution_count": 11,
   "metadata": {},
   "outputs": [
    {
     "name": "stdout",
     "output_type": "stream",
     "text": [
      "|--------------------------------------------------\n",
      "|Confusion Matrix:\n",
      "[[ 2  1  1  4]\n",
      " [ 0  3  1  4]\n",
      " [ 1  0  1  2]\n",
      " [ 3  4  3 10]]\n",
      "|--------------------------------------------------\n",
      "|F1 Score: 0.680\n",
      "|--------------------------------------------------\n",
      "|    [NON]: 0.571\n",
      "|    [PER]: 0.750\n",
      "|    [FOD]: 0.400\n"
     ]
    }
   ],
   "source": [
    "ner_model.evaluate()"
   ]
  },
  {
   "cell_type": "markdown",
   "metadata": {},
   "source": [
    "## 2.4 Save & Load"
   ]
  },
  {
   "cell_type": "code",
   "execution_count": 12,
   "metadata": {},
   "outputs": [],
   "source": [
    "from connlp.util import makedir\n",
    "\n",
    "fpath_model = 'test/ner/model.pk'\n",
    "makedir(fpath=fpath_model)\n",
    "ner_model.save(fpath_model=fpath_model)"
   ]
  },
  {
   "cell_type": "code",
   "execution_count": 13,
   "metadata": {},
   "outputs": [],
   "source": [
    "fpath_model = 'test/ner/model.pk'\n",
    "ner_model = NER_Model()\n",
    "ner_model.load(fpath_model=fpath_model, ner_corpus=ner_corpus, parameters=parameters)"
   ]
  },
  {
   "cell_type": "markdown",
   "metadata": {},
   "source": [
    "# 3. Application"
   ]
  },
  {
   "cell_type": "markdown",
   "metadata": {},
   "source": [
    "## 3.1 Prediction"
   ]
  },
  {
   "cell_type": "code",
   "execution_count": 14,
   "metadata": {},
   "outputs": [
    {
     "name": "stdout",
     "output_type": "stream",
     "text": [
      "Tom/PER eats/NON apple/FOD\n"
     ]
    }
   ],
   "source": [
    "from connlp.preprocess import EnglishTokenizer\n",
    "vectorizer = Vectorizer()\n",
    "\n",
    "new_sent = 'Tom eats apple'\n",
    "tokenized_sent = tokenizer.tokenize(new_sent)\n",
    "ner_result = ner_model.predict(sent=tokenized_sent)\n",
    "print(ner_result)"
   ]
  }
 ],
 "metadata": {
  "kernelspec": {
   "display_name": "Python 3",
   "language": "python",
   "name": "python3"
  },
  "language_info": {
   "codemirror_mode": {
    "name": "ipython",
    "version": 3
   },
   "file_extension": ".py",
   "mimetype": "text/x-python",
   "name": "python",
   "nbconvert_exporter": "python",
   "pygments_lexer": "ipython3",
   "version": "3.6.8"
  }
 },
 "nbformat": 4,
 "nbformat_minor": 4
}
